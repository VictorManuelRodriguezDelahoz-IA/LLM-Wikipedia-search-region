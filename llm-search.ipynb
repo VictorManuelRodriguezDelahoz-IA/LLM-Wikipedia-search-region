{
 "cells": [
  {
   "cell_type": "code",
   "execution_count": 2,
   "metadata": {},
   "outputs": [],
   "source": [
    "import requests\n",
    "from bs4 import BeautifulSoup\n",
    "import pandas as pd\n",
    "import os\n",
    "from dotenv import load_dotenv\n",
    "#from sentence_transformers import SentenceTransformer\n",
    "#import chromadb"
   ]
  },
  {
   "cell_type": "code",
   "execution_count": 3,
   "metadata": {},
   "outputs": [],
   "source": [
    "url = \"https://es.wikipedia.org/wiki/Geograf%C3%ADa_de_Colombia\"\n",
    "\n",
    "# Fetch the page content\n",
    "response = requests.get(url)\n",
    "soup = BeautifulSoup(response.content, 'html.parser')"
   ]
  },
  {
   "cell_type": "code",
   "execution_count": 6,
   "metadata": {},
   "outputs": [
    {
     "name": "stderr",
     "output_type": "stream",
     "text": [
      "/tmp/ipykernel_635/765528878.py:13: FutureWarning: Passing literal html to 'read_html' is deprecated and will be removed in a future version. To read from a literal string, wrap it in a 'StringIO' object.\n",
      "  df_departamentos = pd.read_html(str(tabla))[0]\n"
     ]
    }
   ],
   "source": [
    "# Buscar todas las tablas en la página\n",
    "tables = soup.find_all('table')\n",
    "\n",
    "# Verificar si alguna tabla contiene información sobre departamentos y capitales\n",
    "tabla = None\n",
    "for table in tables:\n",
    "    if \"Departamento\" in table.get_text() and \"Capital\" in table.get_text():\n",
    "        tabla = table\n",
    "        break\n",
    "\n",
    "# Si se encuentra la tabla, convertirla en un DataFrame\n",
    "if tabla:\n",
    "    df_departamentos = pd.read_html(str(tabla))[0]\n",
    "    df_departamentos\n",
    "else:\n",
    "    print(\"No se encontró una tabla con información de departamentos y capitales.\")"
   ]
  },
  {
   "cell_type": "code",
   "execution_count": 4,
   "metadata": {},
   "outputs": [],
   "source": [
    "# Eliminar la columna 0 y la primera fila\n",
    "df_departamentos = df_departamentos.iloc[1:, 1:]"
   ]
  },
  {
   "cell_type": "code",
   "execution_count": 5,
   "metadata": {},
   "outputs": [],
   "source": [
    "new_column_names = df_departamentos.iloc[0]\n",
    "df_departamentos.columns = new_column_names.values\n",
    "df_departamentos = df_departamentos.iloc[1:]"
   ]
  },
  {
   "cell_type": "code",
   "execution_count": 6,
   "metadata": {},
   "outputs": [
    {
     "name": "stdout",
     "output_type": "stream",
     "text": [
      "Modelo cargado exitosamente.\n"
     ]
    }
   ],
   "source": [
    "modelo_nombre = 'all-MiniLM-L6-v2'\n",
    "try:\n",
    "    model = SentenceTransformer(modelo_nombre)\n",
    "    print(\"Modelo cargado exitosamente.\")\n",
    "except Exception as e:\n",
    "    print(f\"Error: {e}\")"
   ]
  },
  {
   "cell_type": "code",
   "execution_count": 7,
   "metadata": {},
   "outputs": [],
   "source": [
    "documentos = []\n",
    "for index, row in df_departamentos.iterrows():\n",
    "    documento = f\"Departamento: {row['Departamento']}, Capital: {row['Capital']}\"\n",
    "    documentos.append(documento)"
   ]
  },
  {
   "cell_type": "code",
   "execution_count": 8,
   "metadata": {},
   "outputs": [
    {
     "name": "stdout",
     "output_type": "stream",
     "text": [
      "Se generaron 35 embeddings.\n",
      "Dimensión de cada embedding: 384\n"
     ]
    }
   ],
   "source": [
    "try:\n",
    "    embeddings = model.encode(documentos)\n",
    "    print(f\"Se generaron {len(embeddings)} embeddings.\")\n",
    "    print(f\"Dimensión de cada embedding: {embeddings.shape[1]}\")\n",
    "except Exception as e:\n",
    "    print(f\"Error al generar los embeddings: {e}\")"
   ]
  },
  {
   "cell_type": "code",
   "execution_count": 11,
   "metadata": {},
   "outputs": [
    {
     "name": "stdout",
     "output_type": "stream",
     "text": [
      "Colección 'departamentos_capitales' creada o cargada.\n"
     ]
    }
   ],
   "source": [
    "client =  chromadb.PersistentClient(path=\"./wikipedia_search_db\")\n",
    "\n",
    "# Para una base de datos persistente en disco:\n",
    "# client = chromadb.PersistentClient(path=\"./mi_base_de_datos\")\n",
    "\n",
    "# Nombre de la colección donde guardarás tus embeddings\n",
    "collection_name = \"departamentos_capitales\"\n",
    "\n",
    "# Obtener o crear la colección\n",
    "collection = client.get_or_create_collection(name=collection_name)\n",
    "\n",
    "print(f\"Colección '{collection_name}' creada o cargada.\")"
   ]
  },
  {
   "cell_type": "code",
   "execution_count": 12,
   "metadata": {},
   "outputs": [
    {
     "name": "stdout",
     "output_type": "stream",
     "text": [
      "Se han añadido 35 documentos a la colección 'departamentos_capitales'.\n"
     ]
    }
   ],
   "source": [
    "ids = [f\"doc_{i}\" for i in range(len(documentos))]  # Generar IDs únicos para cada documento\n",
    "\n",
    "collection.add(\n",
    "    embeddings=embeddings,\n",
    "    documents=documentos,\n",
    "    ids=ids\n",
    ")\n",
    "\n",
    "print(f\"Se han añadido {collection.count()} documentos a la colección '{collection_name}'.\")"
   ]
  },
  {
   "cell_type": "markdown",
   "metadata": {},
   "source": [
    "## Pregunta del usuario"
   ]
  },
  {
   "cell_type": "code",
   "execution_count": null,
   "metadata": {},
   "outputs": [
    {
     "name": "stderr",
     "output_type": "stream",
     "text": [
      "c:\\Users\\Victor\\Desktop\\Productos\\LLM-Wikipedia-search-region\\.venv\\Lib\\site-packages\\huggingface_hub\\file_download.py:144: UserWarning: `huggingface_hub` cache-system uses symlinks by default to efficiently store duplicated files but your machine does not support them in C:\\Users\\Victor\\.cache\\huggingface\\hub\\models--sentence-transformers--paraphrase-MiniLM-L6-v2. Caching files will still work but in a degraded version that might require more space on your disk. This warning can be disabled by setting the `HF_HUB_DISABLE_SYMLINKS_WARNING` environment variable. For more details, see https://huggingface.co/docs/huggingface_hub/how-to-cache#limitations.\n",
      "To support symlinks on Windows, you either need to activate Developer Mode or to run Python as an administrator. In order to activate developer mode, see this article: https://docs.microsoft.com/en-us/windows/apps/get-started/enable-your-device-for-development\n",
      "  warnings.warn(message)\n"
     ]
    },
    {
     "name": "stdout",
     "output_type": "stream",
     "text": [
      "Modelo 'paraphrase-MiniLM-L6-v2' cargado exitosamente para la consulta.\n"
     ]
    }
   ],
   "source": [
    "from sentence_transformers import SentenceTransformer\n",
    "import chromadb\n",
    "\n",
    "modelo_nombre = 'paraphrase-MiniLM-L6-v2'\n",
    "try:\n",
    "    model = SentenceTransformer(modelo_nombre)\n",
    "    print(f\"Modelo '{modelo_nombre}' cargado exitosamente para la consulta.\")\n",
    "except Exception as e:\n",
    "    print(f\"Error al cargar el modelo para la consulta: {e}\")\n",
    "    exit()"
   ]
  },
  {
   "cell_type": "code",
   "execution_count": 15,
   "metadata": {},
   "outputs": [
    {
     "name": "stdout",
     "output_type": "stream",
     "text": [
      "Conectado exitosamente a la colección 'departamentos_capitales'.\n"
     ]
    }
   ],
   "source": [
    "client = chromadb.PersistentClient(path=\"./wikipedia_search_db\")\n",
    "collection_name = \"departamentos_capitales\"\n",
    "try:\n",
    "    collection = client.get_collection(name=collection_name)\n",
    "    print(f\"Conectado exitosamente a la colección '{collection_name}'.\")\n",
    "except Exception as e:\n",
    "    print(f\"Error al conectar a la colección '{collection_name}': {e}\")\n",
    "    exit()"
   ]
  },
  {
   "cell_type": "code",
   "execution_count": null,
   "metadata": {},
   "outputs": [],
   "source": [
    "def recuperar_documentos_relevantes(consulta, coleccion, modelo_embeddings, num_resultados=1):\n",
    "    \"\"\"\n",
    "    Recupera los documentos más relevantes de la base de datos vectorial para una consulta.\n",
    "\n",
    "    Args:\n",
    "        consulta (str): La consulta del usuario en texto plano.\n",
    "        coleccion (chromadb.Collection): La colección de ChromaDB que contiene los embeddings.\n",
    "        modelo_embeddings (SentenceTransformer): El modelo de Sentence Transformers para generar embeddings de la consulta.\n",
    "        num_resultados (int): El número de documentos más relevantes a recuperar (por defecto es 3).\n",
    "\n",
    "    Returns:\n",
    "        list: Una lista de los documentos (strings) más relevantes, o None si hay un error.\n",
    "    \"\"\"\n",
    "    try:\n",
    "        # Generar el embedding de la consulta\n",
    "        consulta_embedding = modelo_embeddings.encode([consulta])\n",
    "\n",
    "        # Buscar en la base de datos vectorial\n",
    "        resultados = coleccion.query(\n",
    "            query_embeddings=consulta_embedding,\n",
    "            n_results=num_resultados\n",
    "        )\n",
    "\n",
    "        # Devolver los documentos recuperados\n",
    "        documentos_recuperados = resultados['documents'][0]\n",
    "        return documentos_recuperados\n",
    "\n",
    "    except Exception as e:\n",
    "        print(f\"Error durante la recuperación de documentos: {e}\")\n",
    "        return None"
   ]
  },
  {
   "cell_type": "markdown",
   "metadata": {},
   "source": [
    "### Ejemplo"
   ]
  },
  {
   "cell_type": "code",
   "execution_count": 17,
   "metadata": {},
   "outputs": [],
   "source": [
    "consulta_usuario = \"¿Cuál es la capital de Antioquia?\"\n",
    "documentos_relevantes = recuperar_documentos_relevantes(consulta_usuario, collection, model)"
   ]
  },
  {
   "cell_type": "code",
   "execution_count": 19,
   "metadata": {},
   "outputs": [
    {
     "name": "stdout",
     "output_type": "stream",
     "text": [
      "\n",
      "Documentos relevantes para la consulta '¿Cuál es la capital de Antioquia?':\n",
      "- Departamento: Antioquia, Capital: Medellín\n",
      "- Departamento: Huila, Capital: Neiva\n",
      "- Departamento: Meta, Capital: Villavicencio\n"
     ]
    }
   ],
   "source": [
    "if documentos_relevantes:\n",
    "    print(f\"\\nDocumentos relevantes para la consulta '{consulta_usuario}':\")\n",
    "    for doc in documentos_relevantes:\n",
    "        print(f\"- {doc}\")\n",
    "else:\n",
    "    print(\"No se pudieron recuperar documentos relevantes.\")"
   ]
  },
  {
   "cell_type": "code",
   "execution_count": 20,
   "metadata": {},
   "outputs": [],
   "source": [
    "def generar_respuesta_simple(consulta, documentos_contexto):\n",
    "    \"\"\"\n",
    "    Genera una respuesta simple extrayendo información de los documentos de contexto.\n",
    "\n",
    "    Args:\n",
    "        consulta (str): La consulta del usuario.\n",
    "        documentos_contexto (list): Una lista de documentos (strings) relevantes.\n",
    "\n",
    "    Returns:\n",
    "        str: Una respuesta simple basada en la información encontrada, o un mensaje indicando que no se encontró información clara.\n",
    "    \"\"\"\n",
    "    if not documentos_contexto:\n",
    "        return \"No se encontraron documentos relevantes para responder a tu pregunta.\"\n",
    "\n",
    "    respuesta = f\"Basándome en la información encontrada:\\n\"\n",
    "    for i, doc in enumerate(documentos_contexto):\n",
    "        respuesta += f\"{i+1}. {doc}\\n\"\n",
    "\n",
    "    respuesta += f\"\\nPara obtener una respuesta más precisa y concisa a tu pregunta: '{consulta}', revisa los documentos proporcionados.\"\n",
    "    return respuesta\n"
   ]
  },
  {
   "cell_type": "code",
   "execution_count": 21,
   "metadata": {},
   "outputs": [
    {
     "name": "stdout",
     "output_type": "stream",
     "text": [
      "\n",
      "Respuesta simple para '¿Cuál es la capital de Antioquia?':\n",
      "Basándome en la información encontrada:\n",
      "1. Departamento: Antioquia, Capital: Medellín\n",
      "2. Departamento: Huila, Capital: Neiva\n",
      "3. Departamento: Meta, Capital: Villavicencio\n",
      "\n",
      "Para obtener una respuesta más precisa y concisa a tu pregunta: '¿Cuál es la capital de Antioquia?', revisa los documentos proporcionados.\n"
     ]
    }
   ],
   "source": [
    "if documentos_relevantes:\n",
    "    respuesta_simple = generar_respuesta_simple(consulta_usuario, documentos_relevantes)\n",
    "    print(f\"\\nRespuesta simple para '{consulta_usuario}':\\n{respuesta_simple}\")\n",
    "else:\n",
    "    print(\"No se encontraron documentos relevantes para generar una respuesta.\")"
   ]
  }
 ],
 "metadata": {
  "kernelspec": {
   "display_name": "venv",
   "language": "python",
   "name": "python3"
  },
  "language_info": {
   "codemirror_mode": {
    "name": "ipython",
    "version": 3
   },
   "file_extension": ".py",
   "mimetype": "text/x-python",
   "name": "python",
   "nbconvert_exporter": "python",
   "pygments_lexer": "ipython3",
   "version": "3.12.9"
  }
 },
 "nbformat": 4,
 "nbformat_minor": 2
}
