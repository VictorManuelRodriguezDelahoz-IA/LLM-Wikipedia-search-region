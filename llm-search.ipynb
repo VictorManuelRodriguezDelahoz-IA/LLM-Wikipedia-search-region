{
 "cells": [
  {
   "cell_type": "code",
   "execution_count": 15,
   "metadata": {},
   "outputs": [
    {
     "ename": "ModuleNotFoundError",
     "evalue": "No module named 'chromadb'",
     "output_type": "error",
     "traceback": [
      "\u001b[31m---------------------------------------------------------------------------\u001b[39m",
      "\u001b[31mModuleNotFoundError\u001b[39m                       Traceback (most recent call last)",
      "\u001b[36mCell\u001b[39m\u001b[36m \u001b[39m\u001b[32mIn[15]\u001b[39m\u001b[32m, line 7\u001b[39m\n\u001b[32m      5\u001b[39m \u001b[38;5;28;01mfrom\u001b[39;00m\u001b[38;5;250m \u001b[39m\u001b[34;01mdotenv\u001b[39;00m\u001b[38;5;250m \u001b[39m\u001b[38;5;28;01mimport\u001b[39;00m load_dotenv\n\u001b[32m      6\u001b[39m \u001b[38;5;28;01mfrom\u001b[39;00m\u001b[38;5;250m \u001b[39m\u001b[34;01msentence_transformers\u001b[39;00m\u001b[38;5;250m \u001b[39m\u001b[38;5;28;01mimport\u001b[39;00m SentenceTransformer\n\u001b[32m----> \u001b[39m\u001b[32m7\u001b[39m \u001b[38;5;28;01mimport\u001b[39;00m\u001b[38;5;250m \u001b[39m\u001b[34;01mchromadb\u001b[39;00m\n",
      "\u001b[31mModuleNotFoundError\u001b[39m: No module named 'chromadb'"
     ]
    }
   ],
   "source": [
    "import requests\n",
    "from bs4 import BeautifulSoup\n",
    "import pandas as pd\n",
    "import os\n",
    "from dotenv import load_dotenv\n",
    "from sentence_transformers import SentenceTransformer\n",
    "import chromadb"
   ]
  },
  {
   "cell_type": "code",
   "execution_count": 3,
   "metadata": {},
   "outputs": [],
   "source": [
    "url = \"https://es.wikipedia.org/wiki/Geograf%C3%ADa_de_Colombia\"\n",
    "\n",
    "# Fetch the page content\n",
    "response = requests.get(url)\n",
    "soup = BeautifulSoup(response.content, 'html.parser')"
   ]
  },
  {
   "cell_type": "code",
   "execution_count": 4,
   "metadata": {},
   "outputs": [
    {
     "name": "stderr",
     "output_type": "stream",
     "text": [
      "C:\\Users\\Victor\\AppData\\Local\\Temp\\ipykernel_16652\\765528878.py:13: FutureWarning: Passing literal html to 'read_html' is deprecated and will be removed in a future version. To read from a literal string, wrap it in a 'StringIO' object.\n",
      "  df_departamentos = pd.read_html(str(tabla))[0]\n"
     ]
    }
   ],
   "source": [
    "# Buscar todas las tablas en la página\n",
    "tables = soup.find_all('table')\n",
    "\n",
    "# Verificar si alguna tabla contiene información sobre departamentos y capitales\n",
    "tabla = None\n",
    "for table in tables:\n",
    "    if \"Departamento\" in table.get_text() and \"Capital\" in table.get_text():\n",
    "        tabla = table\n",
    "        break\n",
    "\n",
    "# Si se encuentra la tabla, convertirla en un DataFrame\n",
    "if tabla:\n",
    "    df_departamentos = pd.read_html(str(tabla))[0]\n",
    "    df_departamentos\n",
    "else:\n",
    "    print(\"No se encontró una tabla con información de departamentos y capitales.\")"
   ]
  },
  {
   "cell_type": "code",
   "execution_count": 5,
   "metadata": {},
   "outputs": [],
   "source": [
    "# Eliminar la columna 0 y la primera fila\n",
    "df_departamentos = df_departamentos.iloc[1:, 1:]"
   ]
  },
  {
   "cell_type": "code",
   "execution_count": 6,
   "metadata": {},
   "outputs": [],
   "source": [
    "new_column_names = df_departamentos.iloc[0]\n",
    "df_departamentos.columns = new_column_names.values\n",
    "df_departamentos = df_departamentos.iloc[1:]"
   ]
  },
  {
   "cell_type": "code",
   "execution_count": 7,
   "metadata": {},
   "outputs": [
    {
     "name": "stderr",
     "output_type": "stream",
     "text": [
      "c:\\Users\\Victor\\Desktop\\Productos\\LLM-Wikipedia-search-region\\.venv\\Lib\\site-packages\\huggingface_hub\\file_download.py:144: UserWarning: `huggingface_hub` cache-system uses symlinks by default to efficiently store duplicated files but your machine does not support them in C:\\Users\\Victor\\.cache\\huggingface\\hub\\models--sentence-transformers--all-MiniLM-L6-v2. Caching files will still work but in a degraded version that might require more space on your disk. This warning can be disabled by setting the `HF_HUB_DISABLE_SYMLINKS_WARNING` environment variable. For more details, see https://huggingface.co/docs/huggingface_hub/how-to-cache#limitations.\n",
      "To support symlinks on Windows, you either need to activate Developer Mode or to run Python as an administrator. In order to activate developer mode, see this article: https://docs.microsoft.com/en-us/windows/apps/get-started/enable-your-device-for-development\n",
      "  warnings.warn(message)\n"
     ]
    },
    {
     "name": "stdout",
     "output_type": "stream",
     "text": [
      "Modelo cargado exitosamente.\n"
     ]
    }
   ],
   "source": [
    "modelo_nombre = 'all-MiniLM-L6-v2'\n",
    "try:\n",
    "    model = SentenceTransformer(modelo_nombre)\n",
    "    print(\"Modelo cargado exitosamente.\")\n",
    "except Exception as e:\n",
    "    print(f\"Error: {e}\")"
   ]
  },
  {
   "cell_type": "code",
   "execution_count": 9,
   "metadata": {},
   "outputs": [],
   "source": [
    "documentos = []\n",
    "for index, row in df_departamentos.iterrows():\n",
    "    documento = f\"Departamento: {row['Departamento']}, Capital: {row['Capital']}\"\n",
    "    documentos.append(documento)"
   ]
  },
  {
   "cell_type": "code",
   "execution_count": 11,
   "metadata": {},
   "outputs": [
    {
     "name": "stdout",
     "output_type": "stream",
     "text": [
      "Se generaron 35 embeddings.\n",
      "Dimensión de cada embedding: 384\n"
     ]
    }
   ],
   "source": [
    "try:\n",
    "    embeddings = model.encode(documentos)\n",
    "    print(f\"Se generaron {len(embeddings)} embeddings.\")\n",
    "    print(f\"Dimensión de cada embedding: {embeddings.shape[1]}\")\n",
    "except Exception as e:\n",
    "    print(f\"Error al generar los embeddings: {e}\")"
   ]
  },
  {
   "cell_type": "code",
   "execution_count": null,
   "metadata": {},
   "outputs": [],
   "source": [
    "client = chromadb.Client()\n",
    "\n",
    "# Para una base de datos persistente en disco:\n",
    "# client = chromadb.PersistentClient(path=\"./mi_base_de_datos\")\n",
    "\n",
    "# Nombre de la colección donde guardarás tus embeddings\n",
    "collection_name = \"departamentos_capitales\"\n",
    "\n",
    "# Obtener o crear la colección\n",
    "collection = client.get_or_create_collection(name=collection_name)\n",
    "\n",
    "print(f\"Colección '{collection_name}' creada o cargada.\")"
   ]
  },
  {
   "cell_type": "code",
   "execution_count": null,
   "metadata": {},
   "outputs": [],
   "source": [
    "ids = [f\"doc_{i}\" for i in range(len(documentos))]  # Generar IDs únicos para cada documento\n",
    "\n",
    "collection.add(\n",
    "    embeddings=embeddings,\n",
    "    documents=documentos,\n",
    "    ids=ids\n",
    ")\n",
    "\n",
    "print(f\"Se han añadido {collection.count()} documentos a la colección '{collection_name}'.\")"
   ]
  }
 ],
 "metadata": {
  "kernelspec": {
   "display_name": ".venv",
   "language": "python",
   "name": "python3"
  },
  "language_info": {
   "codemirror_mode": {
    "name": "ipython",
    "version": 3
   },
   "file_extension": ".py",
   "mimetype": "text/x-python",
   "name": "python",
   "nbconvert_exporter": "python",
   "pygments_lexer": "ipython3",
   "version": "3.13.2"
  }
 },
 "nbformat": 4,
 "nbformat_minor": 2
}
